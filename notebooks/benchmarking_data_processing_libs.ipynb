{
    "cells": [
  {
   "cell_type": "markdown",
   "source": [
    "In ERT we run the forward model once per realization. The forward model will output some data. The format in which we store this data greatly affects the performance of ERT overall.\n",
    "\n",
    "So what do we need to do with the data?"
   ],
   "metadata": {
    "collapsed": false
   },
   "id": "e2df8da9bc24c5d0"
  },
  {
   "cell_type": "markdown",
   "source": [
    "1. Combine it across N realization folders into a single dataset (Not strictly required, but likely faster than using N separate datasets to support queries below)\n",
    "2. Do a simple relation table join between the table of observations and the responses across all realizations. Observations table has these columns: [obs_key, response_key, observed_value, observation_error], Responses\n",
    "3. Find out whether a realization has all of its responses/parameters or not (used internally in ERT and in the GUI)\n",
    "4. Get data for a single response key across all realizations (for the plotter)\n",
    "5. Get all observations for a single response key\n",
    "6. Get observations for single observation key\n",
    "\n",
    "To benchmark this we first mock up some datasets in realization folders"
   ],
   "metadata": {
    "collapsed": false
   },
   "id": "c82becc9f813c2b3"
  },
  {
   "cell_type": "code",
   "execution_count": 1,
   "outputs": [
    {
     "name": "stdout",
     "output_type": "stream",
     "text": [
      "/Users/yngves.kristiansen/Documents/Repositories/oppdrag/equinor/ert/notebooks\n"
     ]
    }
   ],
   "source": [
    "import datetime\n",
    "import os\n",
    "\n",
    "print(os.getcwd())\n",
    "os.makedirs(\"benchmark_data_processing_out\", exist_ok=True)\n",
    "\n",
    "num_reals = 200\n",
    "\n",
    "\n",
    "def create_realization_dirs():\n",
    "    for i in range(num_reals):\n",
    "        os.makedirs(f\"benchmark_data_processing_out/realization-{i}\", exist_ok=True)\n",
    "\n",
    "\n",
    "create_realization_dirs()"
   ],
   "metadata": {
    "collapsed": false,
    "ExecuteTime": {
     "end_time": "2024-07-03T11:22:29.622834Z",
     "start_time": "2024-07-03T11:22:29.615456Z"
    }
   },
   "id": "c5d6d254f3ec921e"
  },
  {
   "cell_type": "markdown",
   "source": [
    "Now we create some summary and gen data datasets"
   ],
   "metadata": {
    "collapsed": false
   },
   "id": "5123ffe20a82d435"
  },
  {
   "cell_type": "code",
   "execution_count": 4,
   "outputs": [
    {
     "ename": "OSError",
     "evalue": "write() argument must be str, not bytes",
     "output_type": "error",
     "traceback": [
      "\u001B[0;31m---------------------------------------------------------------------------\u001B[0m",
      "\u001B[0;31mOSError\u001B[0m                                   Traceback (most recent call last)",
      "\u001B[0;32m/var/folders/sy/_flrp5_10yl21zmnfr_1yc2c0000gn/T/ipykernel_19517/3349938201.py\u001B[0m in \u001B[0;36m?\u001B[0;34m()\u001B[0m\n\u001B[1;32m     75\u001B[0m             \u001B[0;34m\"value\"\u001B[0m\u001B[0;34m:\u001B[0m\u001B[0;34m[\u001B[0m\u001B[0mi\u001B[0m \u001B[0;32mfor\u001B[0m \u001B[0mi\u001B[0m \u001B[0;32min\u001B[0m \u001B[0mrange\u001B[0m\u001B[0;34m(\u001B[0m\u001B[0mlen\u001B[0m\u001B[0;34m(\u001B[0m\u001B[0mgen_data_report_steps\u001B[0m\u001B[0;34m)\u001B[0m \u001B[0;34m*\u001B[0m \u001B[0mlen\u001B[0m\u001B[0;34m(\u001B[0m\u001B[0mgen_data_index\u001B[0m\u001B[0;34m)\u001B[0m\u001B[0;34m)\u001B[0m\u001B[0;34m]\u001B[0m\u001B[0;34m\u001B[0m\u001B[0;34m\u001B[0m\u001B[0m\n\u001B[1;32m     76\u001B[0m         })\n\u001B[1;32m     77\u001B[0m \u001B[0;34m\u001B[0m\u001B[0m\n\u001B[1;32m     78\u001B[0m         \u001B[0;32mfor\u001B[0m \u001B[0mname\u001B[0m\u001B[0;34m,\u001B[0m \u001B[0mto_file_fn\u001B[0m \u001B[0;32min\u001B[0m \u001B[0mdata_formats\u001B[0m\u001B[0;34m:\u001B[0m\u001B[0;34m\u001B[0m\u001B[0;34m\u001B[0m\u001B[0m\n\u001B[0;32m---> 79\u001B[0;31m             \u001B[0mtime_elapsed\u001B[0m\u001B[0;34m,\u001B[0m \u001B[0mmemory\u001B[0m\u001B[0;34m,\u001B[0m \u001B[0m_\u001B[0m \u001B[0;34m=\u001B[0m \u001B[0mto_file_fn\u001B[0m\u001B[0;34m(\u001B[0m\u001B[0;34mf\"initial_{name}\"\u001B[0m\u001B[0;34m,\u001B[0m \u001B[0mdf\u001B[0m\u001B[0;34m)\u001B[0m\u001B[0;34m\u001B[0m\u001B[0;34m\u001B[0m\u001B[0m\n\u001B[0m\u001B[1;32m     80\u001B[0m \u001B[0;34m\u001B[0m\u001B[0m\n\u001B[1;32m     81\u001B[0m             \u001B[0;32mif\u001B[0m \u001B[0mname\u001B[0m \u001B[0;32mnot\u001B[0m \u001B[0;32min\u001B[0m \u001B[0mgen_data_save_timings\u001B[0m\u001B[0;34m:\u001B[0m\u001B[0;34m\u001B[0m\u001B[0;34m\u001B[0m\u001B[0m\n\u001B[1;32m     82\u001B[0m                 \u001B[0mgen_data_save_timings\u001B[0m\u001B[0;34m[\u001B[0m\u001B[0mname\u001B[0m\u001B[0;34m]\u001B[0m \u001B[0;34m=\u001B[0m \u001B[0;34m[\u001B[0m\u001B[0;34m]\u001B[0m\u001B[0;34m\u001B[0m\u001B[0;34m\u001B[0m\u001B[0m\n",
      "\u001B[0;32m/var/folders/sy/_flrp5_10yl21zmnfr_1yc2c0000gn/T/ipykernel_19517/3349938201.py\u001B[0m in \u001B[0;36m?\u001B[0;34m(*args, **kwargs)\u001B[0m\n\u001B[1;32m     12\u001B[0m     \u001B[0;34m@\u001B[0m\u001B[0mwraps\u001B[0m\u001B[0;34m(\u001B[0m\u001B[0mfunc\u001B[0m\u001B[0;34m)\u001B[0m\u001B[0;34m\u001B[0m\u001B[0;34m\u001B[0m\u001B[0m\n\u001B[1;32m     13\u001B[0m     \u001B[0;32mdef\u001B[0m \u001B[0mwrapper\u001B[0m\u001B[0;34m(\u001B[0m\u001B[0;34m*\u001B[0m\u001B[0margs\u001B[0m\u001B[0;34m,\u001B[0m \u001B[0;34m**\u001B[0m\u001B[0mkwargs\u001B[0m\u001B[0;34m)\u001B[0m\u001B[0;34m:\u001B[0m\u001B[0;34m\u001B[0m\u001B[0;34m\u001B[0m\u001B[0m\n\u001B[1;32m     14\u001B[0m         \u001B[0mstart_time\u001B[0m \u001B[0;34m=\u001B[0m \u001B[0mtime\u001B[0m\u001B[0;34m.\u001B[0m\u001B[0mtime\u001B[0m\u001B[0;34m(\u001B[0m\u001B[0;34m)\u001B[0m\u001B[0;34m\u001B[0m\u001B[0;34m\u001B[0m\u001B[0m\n\u001B[1;32m     15\u001B[0m         \u001B[0mmem_usage_before\u001B[0m \u001B[0;34m=\u001B[0m \u001B[0mmemory_usage\u001B[0m\u001B[0;34m(\u001B[0m\u001B[0;34m-\u001B[0m\u001B[0;36m1\u001B[0m\u001B[0;34m,\u001B[0m \u001B[0minterval\u001B[0m\u001B[0;34m=\u001B[0m\u001B[0;36m0.1\u001B[0m\u001B[0;34m,\u001B[0m \u001B[0mtimeout\u001B[0m\u001B[0;34m=\u001B[0m\u001B[0;36m1\u001B[0m\u001B[0;34m)\u001B[0m\u001B[0;34m\u001B[0m\u001B[0;34m\u001B[0m\u001B[0m\n\u001B[0;32m---> 16\u001B[0;31m         \u001B[0mresult\u001B[0m \u001B[0;34m=\u001B[0m \u001B[0mfunc\u001B[0m\u001B[0;34m(\u001B[0m\u001B[0;34m*\u001B[0m\u001B[0margs\u001B[0m\u001B[0;34m,\u001B[0m \u001B[0;34m**\u001B[0m\u001B[0mkwargs\u001B[0m\u001B[0;34m)\u001B[0m\u001B[0;34m\u001B[0m\u001B[0;34m\u001B[0m\u001B[0m\n\u001B[0m\u001B[1;32m     17\u001B[0m         \u001B[0mmem_usage_after\u001B[0m \u001B[0;34m=\u001B[0m \u001B[0mmemory_usage\u001B[0m\u001B[0;34m(\u001B[0m\u001B[0;34m-\u001B[0m\u001B[0;36m1\u001B[0m\u001B[0;34m,\u001B[0m \u001B[0minterval\u001B[0m\u001B[0;34m=\u001B[0m\u001B[0;36m0.1\u001B[0m\u001B[0;34m,\u001B[0m \u001B[0mtimeout\u001B[0m\u001B[0;34m=\u001B[0m\u001B[0;36m1\u001B[0m\u001B[0;34m)\u001B[0m\u001B[0;34m\u001B[0m\u001B[0;34m\u001B[0m\u001B[0m\n\u001B[1;32m     18\u001B[0m         \u001B[0mend_time\u001B[0m \u001B[0;34m=\u001B[0m \u001B[0mtime\u001B[0m\u001B[0;34m.\u001B[0m\u001B[0mtime\u001B[0m\u001B[0;34m(\u001B[0m\u001B[0;34m)\u001B[0m\u001B[0;34m\u001B[0m\u001B[0;34m\u001B[0m\u001B[0m\n\u001B[1;32m     19\u001B[0m         \u001B[0melapsed_time\u001B[0m \u001B[0;34m=\u001B[0m \u001B[0mend_time\u001B[0m \u001B[0;34m-\u001B[0m \u001B[0mstart_time\u001B[0m\u001B[0;34m\u001B[0m\u001B[0;34m\u001B[0m\u001B[0m\n",
      "\u001B[0;32m/var/folders/sy/_flrp5_10yl21zmnfr_1yc2c0000gn/T/ipykernel_19517/3349938201.py\u001B[0m in \u001B[0;36m?\u001B[0;34m(name, df)\u001B[0m\n\u001B[1;32m     47\u001B[0m     \u001B[0;31m# Convert pandas DataFrame to Polars DataFrame\u001B[0m\u001B[0;34m\u001B[0m\u001B[0;34m\u001B[0m\u001B[0m\n\u001B[1;32m     48\u001B[0m     \u001B[0mpolars_df\u001B[0m \u001B[0;34m=\u001B[0m \u001B[0mpl\u001B[0m\u001B[0;34m.\u001B[0m\u001B[0mfrom_pandas\u001B[0m\u001B[0;34m(\u001B[0m\u001B[0mdf\u001B[0m\u001B[0;34m)\u001B[0m\u001B[0;34m\u001B[0m\u001B[0;34m\u001B[0m\u001B[0m\n\u001B[1;32m     49\u001B[0m \u001B[0;34m\u001B[0m\u001B[0m\n\u001B[1;32m     50\u001B[0m     \u001B[0;32mwith\u001B[0m \u001B[0mopen\u001B[0m\u001B[0;34m(\u001B[0m\u001B[0mname\u001B[0m\u001B[0;34m,\u001B[0m \u001B[0;34m\"w+\"\u001B[0m\u001B[0;34m)\u001B[0m \u001B[0;32mas\u001B[0m \u001B[0mf\u001B[0m\u001B[0;34m:\u001B[0m\u001B[0;34m\u001B[0m\u001B[0;34m\u001B[0m\u001B[0m\n\u001B[0;32m---> 51\u001B[0;31m         \u001B[0mpolars_df\u001B[0m\u001B[0;34m.\u001B[0m\u001B[0mwrite_ipc\u001B[0m\u001B[0;34m(\u001B[0m\u001B[0mfile\u001B[0m\u001B[0;34m=\u001B[0m\u001B[0mf\u001B[0m\u001B[0;34m,\u001B[0m \u001B[0mcompression\u001B[0m\u001B[0;34m=\u001B[0m\u001B[0;34m\"uncompressed\"\u001B[0m\u001B[0;34m)\u001B[0m\u001B[0;34m\u001B[0m\u001B[0;34m\u001B[0m\u001B[0m\n\u001B[0m\u001B[1;32m     52\u001B[0m \u001B[0;34m\u001B[0m\u001B[0m\n\u001B[1;32m     53\u001B[0m     \u001B[0;32mreturn\u001B[0m \u001B[0mpolars_df\u001B[0m\u001B[0;34m\u001B[0m\u001B[0;34m\u001B[0m\u001B[0m\n",
      "\u001B[0;32m~/Documents/Repositories/oppdrag/equinor/envs2024/arm/ertert311_v2/lib/python3.11/site-packages/polars/dataframe/frame.py\u001B[0m in \u001B[0;36m?\u001B[0;34m(self, file, compression, future)\u001B[0m\n\u001B[1;32m   3368\u001B[0m             )\n\u001B[1;32m   3369\u001B[0m         \u001B[0;32mif\u001B[0m \u001B[0mfuture\u001B[0m \u001B[0;32mis\u001B[0m \u001B[0;32mNone\u001B[0m\u001B[0;34m:\u001B[0m\u001B[0;34m\u001B[0m\u001B[0;34m\u001B[0m\u001B[0m\n\u001B[1;32m   3370\u001B[0m             \u001B[0mfuture\u001B[0m \u001B[0;34m=\u001B[0m \u001B[0;32mTrue\u001B[0m\u001B[0;34m\u001B[0m\u001B[0;34m\u001B[0m\u001B[0m\n\u001B[1;32m   3371\u001B[0m \u001B[0;34m\u001B[0m\u001B[0m\n\u001B[0;32m-> 3372\u001B[0;31m         \u001B[0mself\u001B[0m\u001B[0;34m.\u001B[0m\u001B[0m_df\u001B[0m\u001B[0;34m.\u001B[0m\u001B[0mwrite_ipc\u001B[0m\u001B[0;34m(\u001B[0m\u001B[0mfile\u001B[0m\u001B[0;34m,\u001B[0m \u001B[0mcompression\u001B[0m\u001B[0;34m,\u001B[0m \u001B[0mfuture\u001B[0m\u001B[0;34m)\u001B[0m\u001B[0;34m\u001B[0m\u001B[0;34m\u001B[0m\u001B[0m\n\u001B[0m\u001B[1;32m   3373\u001B[0m         \u001B[0;32mreturn\u001B[0m \u001B[0mfile\u001B[0m \u001B[0;32mif\u001B[0m \u001B[0mreturn_bytes\u001B[0m \u001B[0;32melse\u001B[0m \u001B[0;32mNone\u001B[0m  \u001B[0;31m# type: ignore[return-value]\u001B[0m\u001B[0;34m\u001B[0m\u001B[0;34m\u001B[0m\u001B[0m\n",
      "\u001B[0;31mOSError\u001B[0m: write() argument must be str, not bytes"
     ]
    }
   ],
   "source": [
    "import pandas as pd\n",
    "import polars as pl\n",
    "import pyarrow as pa\n",
    "import xarray as xr\n",
    "import time\n",
    "from functools import wraps\n",
    "from memory_profiler import memory_usage\n",
    "from dateutil.relativedelta import relativedelta\n",
    "\n",
    "\n",
    "def time_function(func):\n",
    "    @wraps(func)\n",
    "    def wrapper(*args, **kwargs):\n",
    "        start_time = time.time()\n",
    "        mem_usage_before = memory_usage(-1, interval=0.1, timeout=1)\n",
    "        result = func(*args, **kwargs)\n",
    "        mem_usage_after = memory_usage(-1, interval=0.1, timeout=1)\n",
    "        end_time = time.time()\n",
    "        elapsed_time = end_time - start_time\n",
    "        mem_usage = max(mem_usage_after) - min(mem_usage_before)\n",
    "        return (elapsed_time, mem_usage, result)\n",
    "\n",
    "    return wrapper\n",
    "\n",
    "\n",
    "@time_function\n",
    "def df_to_xarray_file(name: str, df: pd.DataFrame):\n",
    "    xarray_dataset = xr.Dataset.from_dataframe(df)\n",
    "    xarray_dataset.to_netcdf(name)\n",
    "    return xarray_dataset\n",
    "\n",
    "\n",
    "@time_function\n",
    "def df_to_arrow_file(name: str, df: pd.DataFrame):\n",
    "    # Convert pandas DataFrame to Arrow Table\n",
    "    arrow_table = pa.Table.from_pandas(df)\n",
    "    with pa.OSFile(name, \"wb\") as f:\n",
    "        writer = pa.RecordBatchFileWriter(f, arrow_table.schema)\n",
    "        writer.write_table(arrow_table)\n",
    "        writer.close()\n",
    "\n",
    "    return arrow_table\n",
    "\n",
    "\n",
    "@time_function\n",
    "def df_to_polars_file(name: str, df: pd.DataFrame):\n",
    "    # Convert pandas DataFrame to Polars DataFrame\n",
    "    polars_df = pl.from_pandas(df)\n",
    "\n",
    "    with open(name, \"w+\") as f:\n",
    "        polars_df.write_ipc(file=f, compression=\"uncompressed\")\n",
    "\n",
    "    return polars_df\n",
    "\n",
    "\n",
    "data_formats = [(\"xarray\", df_to_xarray_file), (\"arrow\", df_to_arrow_file), (\"polars\", df_to_polars_file)]\n",
    "\n",
    "num_summary_keys = 100\n",
    "num_summary_timesteps = 300\n",
    "\n",
    "num_gen_data_keys = 100\n",
    "gen_data_index = [1000, 1200, 1400, 1600, 1800, 2000]\n",
    "gen_data_report_steps = list(range(200))\n",
    "\n",
    "for i in range(num_reals):\n",
    "    realdir = f\"benchmark_data_processing_out/realization-{i}\"\n",
    "\n",
    "    gen_data_save_timings = {}\n",
    "    gen_data_keys = [f\"gd_{gdi}\" for gdi in range(num_gen_data_keys)]\n",
    "    for gen_data_key in gen_data_keys:\n",
    "        df = pd.DataFrame(data={\n",
    "            \"response_key\":[gen_data_key] * len(gen_data_index) * len(gen_data_report_steps),\n",
    "            \"index\":gen_data_index * len(gen_data_report_steps),\n",
    "            \"report_step\":gen_data_report_steps * len(gen_data_index),\n",
    "            \"value\":[i for i in range(len(gen_data_report_steps) * len(gen_data_index))]\n",
    "        })\n",
    "\n",
    "        for name, to_file_fn in data_formats:\n",
    "            time_elapsed, memory, _ = to_file_fn(f\"initial_{name}\", df)\n",
    "\n",
    "            if name not in gen_data_save_timings:\n",
    "                gen_data_save_timings[name] = []\n",
    "\n",
    "            gen_data_save_timings[name].append((time_elapsed, memory))\n",
    "\n",
    "    smry_df = pd.DataFrame(data={\n",
    "        \"response_key\":[f\"smry_{i % num_summary_keys}\" for i in range(num_summary_keys * num_summary_timesteps)],\n",
    "        \"time\":[f\"{(datetime.datetime(2000, 1, 1) + relativedelta(months=1)), i % num_summary_timesteps}\"\n",
    "                for i\n",
    "                in range(num_summary_keys * num_summary_timesteps)],\n",
    "        \"value\":[i for i in range(num_summary_keys * num_summary_timesteps)]\n",
    "    })\n",
    "\n",
    "    smry_timings = {}\n",
    "    for name, to_file_fn in data_formats:\n",
    "        time_elapsed, memory, _ = to_file_fn(\"initial_smry\", smry_df)\n",
    "\n",
    "        if name not in smry_timings:\n",
    "            smry_timings[name] = []\n",
    "\n",
    "        smry_timings[name].append((time_elapsed, memory))\n",
    "\n",
    "    print(\"hello\")\n"
   ],
   "metadata": {
    "collapsed": false,
    "ExecuteTime": {
     "end_time": "2024-07-03T11:23:08.781898Z",
     "start_time": "2024-07-03T11:22:32.146705Z"
    }
   },
   "id": "ccd2d4dac09a372f"
  }
 ],
 "metadata": {
  "kernelspec": {
   "display_name": "Python 3",
   "language": "python",
   "name": "python3"
  },
  "language_info": {
   "codemirror_mode": {
    "name": "ipython",
    "version": 2
   },
   "file_extension": ".py",
   "mimetype": "text/x-python",
   "name": "python",
   "nbconvert_exporter": "python",
   "pygments_lexer": "ipython2",
   "version": "2.7.6"
  }
 },
 "nbformat": 4,
 "nbformat_minor": 5
}
